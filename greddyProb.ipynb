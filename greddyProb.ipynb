{
 "cells": [
  {
   "cell_type": "code",
   "execution_count": 9,
   "id": "9297d6c3",
   "metadata": {},
   "outputs": [],
   "source": [
    "# Huffman Coding using python\n",
    "\n",
    "input_string = input(\"Enter the string to be encoded: \")\n"
   ]
  },
  {
   "cell_type": "code",
   "execution_count": 10,
   "id": "f7e65798",
   "metadata": {},
   "outputs": [],
   "source": [
    "# Creating tree nodes\n",
    "class NodeTree(object):\n",
    "\n",
    "    def __init__(self, left=None, right=None):\n",
    "        self.left = left\n",
    "        self.right = right\n",
    "\n",
    "    def children(self):\n",
    "        return (self.left, self.right)\n",
    "\n",
    "    def nodes(self):\n",
    "        return (self.left, self.right)\n",
    "\n",
    "    def __str__(self):\n",
    "        return '%s_%s' % (self.left, self.right)\n"
   ]
  },
  {
   "cell_type": "code",
   "execution_count": 11,
   "id": "f4555f6e",
   "metadata": {},
   "outputs": [],
   "source": [
    "# Main function implementing huffman coding\n",
    "def huffman_code_tree(node, left=True, binString=''):\n",
    "    if type(node) is str:\n",
    "        return {node: binString}\n",
    "    (l, r) = node.children()\n",
    "    d = dict()\n",
    "    d.update(huffman_code_tree(l, True, binString + '0'))\n",
    "    d.update(huffman_code_tree(r, False, binString + '1'))\n",
    "    return d\n"
   ]
  },
  {
   "cell_type": "code",
   "execution_count": 12,
   "id": "8f66ca2c",
   "metadata": {},
   "outputs": [
    {
     "name": "stdout",
     "output_type": "stream",
     "text": [
      "\n",
      " Char | Huffman code \n",
      "----------------------\n",
      " 'a'  |       11100\n",
      " 'c'  |       11101\n",
      " 'f'  |       11110\n",
      " 'r'  |       11111\n",
      " 'l'  |        1100\n",
      " 'i'  |        1101\n",
      " 'o'  |         010\n",
      " ' '  |         011\n",
      " 'n'  |         100\n",
      " 'g'  |         101\n",
      " 'e'  |          00\n"
     ]
    }
   ],
   "source": [
    "# Calculating frequency\n",
    "freq = {}\n",
    "for c in input_string:\n",
    "    if c in freq:\n",
    "        freq[c] += 1\n",
    "    else:\n",
    "        freq[c] = 1\n",
    "\n",
    "freq_sorted = sorted(freq.items(), key=lambda x: x[1])\n",
    "\n",
    "nodes = list(freq_sorted)\n",
    "\n",
    "while len(nodes) > 1:\n",
    "    (key1, c1) = nodes[0]\n",
    "    (key2, c2) = nodes[1]\n",
    "    nodes = nodes[2:]\n",
    "    node = NodeTree(key1, key2)\n",
    "    nodes.append((node, c1 + c2))\n",
    "    nodes = sorted(nodes, key=lambda x: x[1])\n",
    "\n",
    "if nodes:\n",
    "    huffmanCode = huffman_code_tree(nodes[0][0])\n",
    "\n",
    "    print('\\n Char | Huffman code ')\n",
    "    print('----------------------')\n",
    "    for (char, frequency) in freq_sorted:\n",
    "        print(' %-4r |%12s' % (char, huffmanCode[char]))\n",
    "else:\n",
    "    print(\"Input string is empty.\")"
   ]
  }
 ],
 "metadata": {
  "kernelspec": {
   "display_name": "base",
   "language": "python",
   "name": "python3"
  },
  "language_info": {
   "codemirror_mode": {
    "name": "ipython",
    "version": 3
   },
   "file_extension": ".py",
   "mimetype": "text/x-python",
   "name": "python",
   "nbconvert_exporter": "python",
   "pygments_lexer": "ipython3",
   "version": "3.11.4"
  }
 },
 "nbformat": 4,
 "nbformat_minor": 5
}
