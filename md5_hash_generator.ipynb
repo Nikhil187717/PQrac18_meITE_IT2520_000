{
 "cells": [
  {
   "cell_type": "markdown",
   "id": "6343b1af",
   "metadata": {},
   "source": [
    "# 🔐 MD5 Hashing in Python\n",
    "This notebook demonstrates how to generate an MD5 hash of a user-provided message using Python's built-in `hashlib` library."
   ]
  },
  {
   "cell_type": "code",
   "execution_count": 1,
   "id": "6cea6ac1",
   "metadata": {},
   "outputs": [],
   "source": [
    "\n",
    "import hashlib\n"
   ]
  },
  {
   "cell_type": "code",
   "execution_count": 2,
   "id": "c229675a",
   "metadata": {},
   "outputs": [],
   "source": [
    "\n",
    "def generate_md5_hash(message):\n",
    "    # Encode the message to bytes\n",
    "    encoded_message = message.encode('utf-8')\n",
    "    # Create MD5 hash object\n",
    "    md5_hash = hashlib.md5(encoded_message)\n",
    "    # Return hexadecimal digest\n",
    "    return md5_hash.hexdigest()\n"
   ]
  },
  {
   "cell_type": "code",
   "execution_count": 3,
   "id": "3808cd21",
   "metadata": {},
   "outputs": [
    {
     "name": "stdout",
     "output_type": "stream",
     "text": [
      "MD5 Hash: 2a80513f40f0c2a9c11009fa83049bd9\n"
     ]
    }
   ],
   "source": [
    "\n",
    "# Get input from user\n",
    "message = input(\"Enter a message to hash with MD5: \")\n",
    "# Generate and print MD5 hash\n",
    "hash_result = generate_md5_hash(message)\n",
    "print(\"MD5 Hash:\", hash_result)\n"
   ]
  }
 ],
 "metadata": {
  "kernelspec": {
   "display_name": "base",
   "language": "python",
   "name": "python3"
  },
  "language_info": {
   "codemirror_mode": {
    "name": "ipython",
    "version": 3
   },
   "file_extension": ".py",
   "mimetype": "text/x-python",
   "name": "python",
   "nbconvert_exporter": "python",
   "pygments_lexer": "ipython3",
   "version": "3.11.4"
  }
 },
 "nbformat": 4,
 "nbformat_minor": 5
}
