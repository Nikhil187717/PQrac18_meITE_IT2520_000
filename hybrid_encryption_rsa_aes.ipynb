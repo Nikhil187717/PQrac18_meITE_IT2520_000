{
 "cells": [
  {
   "cell_type": "markdown",
   "id": "f03b255b",
   "metadata": {},
   "source": [
    "# Hybrid Encryption with AES + RSA\n",
    "This notebook demonstrates hybrid encryption where a message is encrypted using AES (for speed and confidentiality) and the AES key is encrypted using RSA (for secure key sharing)."
   ]
  },
  {
   "cell_type": "code",
   "execution_count": 3,
   "id": "c0452612",
   "metadata": {},
   "outputs": [
    {
     "name": "stdout",
     "output_type": "stream",
     "text": [
      "Collecting pycryptodome\n",
      "  Downloading pycryptodome-3.22.0-cp37-abi3-win_amd64.whl (1.8 MB)\n",
      "     ---------------------------------------- 1.8/1.8 MB 935.7 kB/s eta 0:00:00\n",
      "Installing collected packages: pycryptodome\n",
      "Successfully installed pycryptodome-3.22.0\n"
     ]
    }
   ],
   "source": [
    "!pip install pycryptodome\n"
   ]
  },
  {
   "cell_type": "code",
   "execution_count": 4,
   "id": "b364144d",
   "metadata": {},
   "outputs": [],
   "source": [
    "\n",
    "import secrets\n",
    "from Crypto.Cipher import AES\n",
    "import rsa\n"
   ]
  },
  {
   "cell_type": "code",
   "execution_count": 5,
   "id": "ed2ca096",
   "metadata": {},
   "outputs": [],
   "source": [
    "\n",
    "def keys():\n",
    "    # Key generation\n",
    "    aes_key = secrets.token_bytes(32)\n",
    "    public_key, private_key = rsa.newkeys(1024)\n",
    "    return aes_key, public_key, private_key\n"
   ]
  },
  {
   "cell_type": "code",
   "execution_count": 6,
   "id": "d4ba153c",
   "metadata": {},
   "outputs": [],
   "source": [
    "\n",
    "def encrypt(message, aes_key, public_key):\n",
    "    # AES encryption with GCM\n",
    "    cipher_aes = AES.new(aes_key, AES.MODE_GCM)\n",
    "    nonce = cipher_aes.nonce\n",
    "    ciphertext, tag = cipher_aes.encrypt_and_digest(message.encode('utf-8'))\n",
    "\n",
    "    print(\"\\nAES Ciphertext:\", ciphertext)\n",
    "\n",
    "    # RSA encrypt AES ciphertext\n",
    "    encrypted_msg = rsa.encrypt(ciphertext, public_key)\n",
    "    print(\"\\nEncrypted Message via RSA:\", encrypted_msg)\n",
    "\n",
    "    # RSA encrypt AES key\n",
    "    encrypted_key = rsa.encrypt(aes_key, public_key)\n",
    "    print(\"\\nEncrypted AES Key:\", encrypted_key)\n",
    "\n",
    "    return nonce, tag, encrypted_msg, encrypted_key\n"
   ]
  },
  {
   "cell_type": "code",
   "execution_count": 7,
   "id": "ae871589",
   "metadata": {},
   "outputs": [],
   "source": [
    "\n",
    "def decrypt(nonce, tag, encrypted_msg, encrypted_key, private_key):\n",
    "    # RSA decrypt AES key\n",
    "    aes_key = rsa.decrypt(encrypted_key, private_key)\n",
    "    print(\"\\nDecrypted AES Key:\", aes_key)\n",
    "\n",
    "    # RSA decrypt message\n",
    "    aes_ciphertext = rsa.decrypt(encrypted_msg, private_key)\n",
    "    print(\"\\nDecrypted by RSA:\", aes_ciphertext)\n",
    "\n",
    "    # AES decryption with GCM\n",
    "    cipher_aes = AES.new(aes_key, AES.MODE_GCM, nonce=nonce)\n",
    "    decrypted_msg = cipher_aes.decrypt_and_verify(aes_ciphertext, tag).decode('utf-8')\n",
    "    print(\"\\nFinal Decrypted Message:\", decrypted_msg)\n"
   ]
  },
  {
   "cell_type": "code",
   "execution_count": 8,
   "id": "23f91181",
   "metadata": {},
   "outputs": [
    {
     "name": "stdout",
     "output_type": "stream",
     "text": [
      "\n",
      "AES Ciphertext: b'-uSD\\xfd\\xc4W\\x9f\\xc7\\xe1\\xf7\\x07\\xd1N%$S\\x02\\x92\\x9f>\\xc8\\x0f(\\xc3\\xf0'\n",
      "\n",
      "Encrypted Message via RSA: b'\\x0eo8\\xae\\xa5\\x9c\\xb9\\xa4q#W#@\\xaf\\xf7\\xa0*i\\xf3\\x1b\\xfa\\x1c?\\xd9\\xce\\xf8\\xc9\\xaa\\xfaCf\\xec\\x95\\xd94\\xd3\\x16\\xaejE\\x8d\\x1b\\xc3\\xbf\\x98\\xc8\\xffDkr\\x90l\\x92\\xe2\\xa2\\xb2\\x7f\\xc2\\xdc!\\x15&\\xb5\\xb8\\xca\\xb0\\x91B0\\xc9\\x92\\x98\\xd5\\xec\\xf5\\xe0\\xd3\\x8e\\x0e\\xd23\\x88\\xae\\xc4\\xda\"\\xaa1\\xd0(1\\xf9\\xbb\\xe1zQqiz\\xc5\\xc5\\xb6\\x1a\\xfa\\x1f\\xc8\\xd4\\xb4*\\x94\\x1d?\\x06\\xfb\\xb2\\xfd-\\x87V0\\x0c\\x1e\\xec\\xe1\\x00\\xb0B4'\n",
      "\n",
      "Encrypted AES Key: b'\\x0fl\\xc4ED\\xda\\x93\\xf6\\xee\\x8c\\x04=$\\x0cb_\\xce/L\\x1bk-$+R\\xd6DuF\\xe6z^\\xda\\\\q`\\x9c}\\xca\\xb5/\\xf2\\x13\\x9f\\xe4UX]\\x80\\xe0\\xdcJ\\xe7s\\x13/\\xbf\\xac\\x08\\xd6j{\\xd6\\x85~B\\x7fk\\x05.\\x97\\x1e\\xd7\\x18\\xa5\\xdb\\x06\\xd1\\x94F]\\xa8\\xe5Fc\\x8dA7b\\x0b\\x917cn>tv\\xfb\\xe1\\xd1oT%\\x1c*H\\x9cmW\\xfa\\x0fI\\\\\\xc4\\xf7K\\xc9s\\xe4?\\xbf0\\t\\xb5\\xbd\\xc3,p'\n",
      "\n",
      "Decrypted AES Key: b'K>\\xe4\\x86\\x10\\xad\\xdf\\xcd\\xbd+\\xd9\\xb10\\xa2\\xb6\\xb1\\xc6a\\xc5l\\xaa\\x9c G\\xc6<\\xf6\\x8c6\\xcbA\\x1a'\n",
      "\n",
      "Decrypted by RSA: b'-uSD\\xfd\\xc4W\\x9f\\xc7\\xe1\\xf7\\x07\\xd1N%$S\\x02\\x92\\x9f>\\xc8\\x0f(\\xc3\\xf0'\n",
      "\n",
      "Final Decrypted Message: Goa College of Engineering\n"
     ]
    }
   ],
   "source": [
    "\n",
    "# === Demo ===\n",
    "message = input(\"\\nEnter the message: \")\n",
    "aes_key, public_key, private_key = keys()\n",
    "nonce, tag, encrypted_msg, encrypted_key = encrypt(message, aes_key, public_key)\n",
    "decrypt(nonce, tag, encrypted_msg, encrypted_key, private_key)\n"
   ]
  }
 ],
 "metadata": {
  "kernelspec": {
   "display_name": "base",
   "language": "python",
   "name": "python3"
  },
  "language_info": {
   "codemirror_mode": {
    "name": "ipython",
    "version": 3
   },
   "file_extension": ".py",
   "mimetype": "text/x-python",
   "name": "python",
   "nbconvert_exporter": "python",
   "pygments_lexer": "ipython3",
   "version": "3.11.4"
  }
 },
 "nbformat": 4,
 "nbformat_minor": 5
}
