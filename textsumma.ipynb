{
  "nbformat": 4,
  "nbformat_minor": 0,
  "metadata": {
    "colab": {
      "provenance": []
    },
    "kernelspec": {
      "name": "python3",
      "display_name": "Python 3"
    },
    "language_info": {
      "name": "python"
    }
  },
  "cells": [
    {
      "cell_type": "code",
      "source": [
        "# 📌 Cell 1: Install Required Libraries\n",
        "!pip install transformers ipywidgets --quiet\n"
      ],
      "metadata": {
        "colab": {
          "base_uri": "https://localhost:8080/"
        },
        "id": "P3MCW3MXXyc6",
        "outputId": "1df50d1a-1c63-4e99-c7ca-20b40a11e958"
      },
      "execution_count": 3,
      "outputs": [
        {
          "output_type": "stream",
          "name": "stdout",
          "text": [
            "\u001b[?25l   \u001b[90m━━━━━━━━━━━━━━━━━━━━━━━━━━━━━━━━━━━━━━━━\u001b[0m \u001b[32m0.0/1.6 MB\u001b[0m \u001b[31m?\u001b[0m eta \u001b[36m-:--:--\u001b[0m\r\u001b[2K   \u001b[91m━━━\u001b[0m\u001b[91m╸\u001b[0m\u001b[90m━━━━━━━━━━━━━━━━━━━━━━━━━━━━━━━━━━━━\u001b[0m \u001b[32m0.1/1.6 MB\u001b[0m \u001b[31m4.1 MB/s\u001b[0m eta \u001b[36m0:00:01\u001b[0m\r\u001b[2K   \u001b[91m━━━━━━━━━━━━━━━━━━━━━━━━━━━━━\u001b[0m\u001b[91m╸\u001b[0m\u001b[90m━━━━━━━━━━\u001b[0m \u001b[32m1.2/1.6 MB\u001b[0m \u001b[31m18.0 MB/s\u001b[0m eta \u001b[36m0:00:01\u001b[0m\r\u001b[2K   \u001b[90m━━━━━━━━━━━━━━━━━━━━━━━━━━━━━━━━━━━━━━━━\u001b[0m \u001b[32m1.6/1.6 MB\u001b[0m \u001b[31m17.4 MB/s\u001b[0m eta \u001b[36m0:00:00\u001b[0m\n",
            "\u001b[?25h"
          ]
        }
      ]
    },
    {
      "cell_type": "code",
      "source": [
        "# 📌 Cell 2: Text Input Box and Button\n",
        "from IPython.display import display\n",
        "import ipywidgets as widgets\n",
        "\n",
        "# Widget for user text input\n",
        "text_area = widgets.Textarea(\n",
        "    value='Paste your text here...',\n",
        "    placeholder='Enter text to summarize',\n",
        "    description='Input:',\n",
        "    layout=widgets.Layout(width='100%', height='200px')\n",
        ")\n",
        "display(text_area)\n",
        "\n",
        "# Button to confirm input\n",
        "button = widgets.Button(description=\"Summarize\")\n",
        "display(button)\n",
        "\n",
        "# Global variable to hold input text\n",
        "input_text = ''\n",
        "\n",
        "def on_button_clicked(b):\n",
        "    global input_text\n",
        "    input_text = text_area.value\n",
        "    print(\"Text received for summarization.\")\n",
        "\n",
        "button.on_click(on_button_clicked)\n"
      ],
      "metadata": {
        "id": "Jya6nIYqXyfe"
      },
      "execution_count": null,
      "outputs": []
    },
    {
      "cell_type": "code",
      "source": [
        "# 📌 Cell 3: Perform Summarization\n",
        "from transformers import pipeline\n",
        "\n",
        "# Initialize summarization pipeline\n",
        "summarizer = pipeline(\"summarization\")\n",
        "\n",
        "# Summarize the input_text provided by user\n",
        "if input_text:\n",
        "    summary = summarizer(input_text, max_length=130, min_length=30, do_sample=False)\n",
        "    print(\"Summary:\\n\", summary[0]['summary_text'])\n",
        "else:\n",
        "    print(\"Please enter some text and click 'Summarize'.\")\n"
      ],
      "metadata": {
        "id": "4BR5wiGJXyi1"
      },
      "execution_count": null,
      "outputs": []
    }
  ]
}