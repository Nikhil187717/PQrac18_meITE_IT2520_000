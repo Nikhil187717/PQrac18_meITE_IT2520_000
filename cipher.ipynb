{
 "cells": [
  {
   "cell_type": "code",
   "execution_count": 1,
   "metadata": {},
   "outputs": [
    {
     "name": "stdout",
     "output_type": "stream",
     "text": [
      "Encrypted Text: rmolmp\n",
      "Decrypted Text: nikhil\n"
     ]
    }
   ],
   "source": [
    "# Basic Encryption Cipher (Caesar Cipher)\n",
    "\n",
    "def caesar_cipher(text, shift):\n",
    "    result = \"\"\n",
    "    for char in text:\n",
    "        if char.isalpha():\n",
    "            shift_base = ord('A') if char.isupper() else ord('a')\n",
    "            result += chr((ord(char) - shift_base + shift) % 26 + shift_base)\n",
    "        else:\n",
    "            result += char\n",
    "    return result\n",
    "\n",
    "# Take user input\n",
    "text = input(\"Enter text to encrypt: \")\n",
    "shift = int(input(\"Enter shift value (e.g., 3): \"))\n",
    "\n",
    "encrypted_text = caesar_cipher(text, shift)\n",
    "print(f\"Encrypted Text: {encrypted_text}\")\n",
    "\n",
    "decrypted_text = caesar_cipher(encrypted_text, -shift)\n",
    "print(f\"Decrypted Text: {decrypted_text}\")\n"
   ]
  }
 ],
 "metadata": {
  "kernelspec": {
   "display_name": "base",
   "language": "python",
   "name": "python3"
  },
  "language_info": {
   "codemirror_mode": {
    "name": "ipython",
    "version": 3
   },
   "file_extension": ".py",
   "mimetype": "text/x-python",
   "name": "python",
   "nbconvert_exporter": "python",
   "pygments_lexer": "ipython3",
   "version": "3.11.4"
  }
 },
 "nbformat": 4,
 "nbformat_minor": 2
}
