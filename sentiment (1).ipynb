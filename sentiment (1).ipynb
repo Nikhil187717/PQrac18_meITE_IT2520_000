{
  "nbformat": 4,
  "nbformat_minor": 0,
  "metadata": {
    "colab": {
      "provenance": []
    },
    "kernelspec": {
      "name": "python3",
      "display_name": "Python 3"
    },
    "language_info": {
      "name": "python"
    }
  },
  "cells": [
    {
      "cell_type": "code",
      "execution_count": 2,
      "metadata": {
        "colab": {
          "base_uri": "https://localhost:8080/"
        },
        "id": "xfr3Q4SxVral",
        "outputId": "405cf63a-56c8-4681-ba4d-7103ab9262bc"
      },
      "outputs": [
        {
          "output_type": "stream",
          "name": "stdout",
          "text": [
            "Text: I love this movie! It's fantastic!\n",
            "Sentiment: Positive (Polarity: 0.5625)\n",
            "\n",
            "Text: This is the worst experience ever.\n",
            "Sentiment: Negative (Polarity: -1.0)\n",
            "\n",
            "Text: It was okay, not great but not bad either.\n",
            "Sentiment: Positive (Polarity: 0.14999999999999997)\n",
            "\n"
          ]
        }
      ],
      "source": [
        "from textblob import TextBlob\n",
        "\n",
        "# Sample sentences\n",
        "texts = [\n",
        " \"I love this movie! It's fantastic!\",\n",
        " \"This is the worst experience ever.\",\n",
        " \"It was okay, not great but not bad either.\"\n",
        "]\n",
        "\n",
        "# Analyze sentiment\n",
        "for text in texts:\n",
        "    blob = TextBlob(text)\n",
        "    polarity = blob.sentiment.polarity\n",
        "    if polarity > 0:\n",
        "        sentiment = \"Positive\"\n",
        "    elif polarity < 0:\n",
        "        sentiment = \"Negative\"\n",
        "    else:\n",
        "        sentiment = \"Neutral\"\n",
        "\n",
        "    print(f\"Text: {text}\\nSentiment: {sentiment} (Polarity: {polarity})\\n\")"
      ]
    }
  ]
}