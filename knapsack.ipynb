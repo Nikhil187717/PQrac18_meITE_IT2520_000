{
 "cells": [
  {
   "cell_type": "code",
   "execution_count": 1,
   "id": "75c8504e",
   "metadata": {},
   "outputs": [],
   "source": [
    "def knapsack_dynamic_programming(capacity, weights, values):\n",
    "    \"\"\"\n",
    "    Solves the 0/1 knapsack problem using dynamic programming.\n",
    "\n",
    "    Args:\n",
    "        capacity (int): The maximum weight capacity of the knapsack.\n",
    "        weights (list): A list of the weights of the items.\n",
    "        values (list): A list of the values of the items.\n",
    "\n",
    "    Returns:\n",
    "        int: The maximum total value that can be carried in the knapsack.\n",
    "    \"\"\"\n",
    "    n = len(values)\n",
    "    # Create a table dp[i][w] where dp[i][w] stores the maximum value that can be\n",
    "    # obtained with a knapsack of capacity w using the first i items.\n",
    "    dp = [[0 for _ in range(capacity + 1)] for _ in range(n + 1)]\n",
    "\n",
    "    # Iterate through the items\n",
    "    for i in range(1, n + 1):\n",
    "        # Iterate through the possible capacities\n",
    "        for w in range(capacity + 1):\n",
    "            if weights[i - 1] <= w:\n",
    "                # If the current item's weight is less than or equal to the current capacity,\n",
    "                # we have two choices:\n",
    "                # 1. Include the current item: value of current item + max value with remaining capacity and previous items\n",
    "                # 2. Exclude the current item: max value with the same capacity and previous items\n",
    "                dp[i][w] = max(values[i - 1] + dp[i - 1][w - weights[i - 1]], dp[i - 1][w])\n",
    "            else:\n",
    "                # If the current item's weight is greater than the current capacity,\n",
    "                # we cannot include it, so the max value is the same as with the previous items.\n",
    "                dp[i][w] = dp[i - 1][w]\n",
    "\n",
    "    # The maximum value that can be carried in the knapsack is at the bottom-right cell of the dp table.\n",
    "    return dp[n][capacity]"
   ]
  },
  {
   "cell_type": "code",
   "execution_count": 2,
   "id": "d1c5db58",
   "metadata": {},
   "outputs": [
    {
     "name": "stdout",
     "output_type": "stream",
     "text": [
      "Enter the weight and value for each item (separated by space):\n",
      "\n",
      "The maximum value that can be obtained is: 220\n"
     ]
    }
   ],
   "source": [
    "if __name__ == \"__main__\":\n",
    "    try:\n",
    "        num_items = int(input(\"Enter the number of items: \"))\n",
    "        weights = []\n",
    "        values = []\n",
    "\n",
    "        print(\"Enter the weight and value for each item (separated by space):\")\n",
    "        for i in range(num_items):\n",
    "            weight_str, value_str = input(f\"Item {i + 1}: \").split()\n",
    "            weights.append(int(weight_str))\n",
    "            values.append(int(value_str))\n",
    "\n",
    "        capacity = int(input(\"Enter the maximum capacity of the knapsack: \"))\n",
    "\n",
    "        if num_items != len(weights) or num_items != len(values):\n",
    "            print(\"Error: Number of items, weights, and values must be consistent.\")\n",
    "        elif capacity < 0 or any(w < 0 for w in weights) or any(v < 0 for v in values):\n",
    "            print(\"Error: Capacity, weights, and values cannot be negative.\")\n",
    "        else:\n",
    "            max_value = knapsack_dynamic_programming(capacity, weights, values)\n",
    "            print(f\"\\nThe maximum value that can be obtained is: {max_value}\")\n",
    "\n",
    "    except ValueError:\n",
    "        print(\"Invalid input. Please enter integers for the number of items, weights, values, and capacity.\")\n",
    "    except Exception as e:\n",
    "        print(f\"An error occurred: {e}\")"
   ]
  },
  {
   "cell_type": "code",
   "execution_count": null,
   "id": "e9a2df59",
   "metadata": {},
   "outputs": [],
   "source": []
  },
  {
   "cell_type": "code",
   "execution_count": null,
   "id": "311af716",
   "metadata": {},
   "outputs": [],
   "source": []
  }
 ],
 "metadata": {
  "kernelspec": {
   "display_name": "base",
   "language": "python",
   "name": "python3"
  },
  "language_info": {
   "codemirror_mode": {
    "name": "ipython",
    "version": 3
   },
   "file_extension": ".py",
   "mimetype": "text/x-python",
   "name": "python",
   "nbconvert_exporter": "python",
   "pygments_lexer": "ipython3",
   "version": "3.11.4"
  }
 },
 "nbformat": 4,
 "nbformat_minor": 5
}
